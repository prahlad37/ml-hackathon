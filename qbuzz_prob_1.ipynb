{
  "nbformat": 4,
  "nbformat_minor": 0,
  "metadata": {
    "colab": {
      "name": "qbuzz-prob-1.ipynb",
      "provenance": [],
      "collapsed_sections": [],
      "authorship_tag": "ABX9TyPkkwxG6p8yxQ/70lENw/Mo",
      "include_colab_link": true
    },
    "kernelspec": {
      "name": "python3",
      "display_name": "Python 3"
    }
  },
  "cells": [
    {
      "cell_type": "markdown",
      "metadata": {
        "id": "view-in-github",
        "colab_type": "text"
      },
      "source": [
        "<a href=\"https://colab.research.google.com/github/prahlad37/ml-hackathon/blob/main/qbuzz_prob_1.ipynb\" target=\"_parent\"><img src=\"https://colab.research.google.com/assets/colab-badge.svg\" alt=\"Open In Colab\"/></a>"
      ]
    },
    {
      "cell_type": "markdown",
      "metadata": {
        "id": "uMAxVAnx-o_8"
      },
      "source": [
        "**Goal:** Given a wide range of numerical attributes that are collected after processing thousands of articles and news, you have to build a machine learning model that will estimate the number of shares."
      ]
    },
    {
      "cell_type": "code",
      "metadata": {
        "id": "yckMd5hx-818"
      },
      "source": [
        "import pandas as pd\n",
        "\n",
        "#Use to import the file into google Colab drive\n",
        "from google.colab import files\n",
        "\n",
        "#uploaded = files.upload()\n",
        "\n",
        "data = pd.read_excel('training_data.xlsx')"
      ],
      "execution_count": 5,
      "outputs": []
    },
    {
      "cell_type": "markdown",
      "metadata": {
        "id": "EMEtU0GbEJ1e"
      },
      "source": [
        "Data reading complete."
      ]
    },
    {
      "cell_type": "code",
      "metadata": {
        "id": "H_M1wnt1M_9j"
      },
      "source": [
        "import seaborn as sns\n",
        "import matplotlib.pyplot as plt\n",
        "\n",
        "\n",
        "from sklearn import metrics\n",
        "\n",
        "import numpy as np\n",
        "\n",
        "# allow plots to appear directly in the notebook\n",
        "%matplotlib inline"
      ],
      "execution_count": 7,
      "outputs": []
    },
    {
      "cell_type": "code",
      "metadata": {
        "id": "VhTc-VdGFXkY",
        "outputId": "a20c7f74-1c42-4166-dd20-cf471554ef9a",
        "colab": {
          "base_uri": "https://localhost:8080/"
        }
      },
      "source": [
        "sample_sz, num_ft = data.shape\n",
        "\n",
        "print('sample size     : ' + str(sample_sz))\n",
        "print('num of features : ' + str(num_ft))"
      ],
      "execution_count": 14,
      "outputs": [
        {
          "output_type": "stream",
          "text": [
            "sample size     : 28786\n",
            "num of features : 61\n"
          ],
          "name": "stdout"
        }
      ]
    },
    {
      "cell_type": "code",
      "metadata": {
        "id": "otKH8CsOHbSH",
        "outputId": "7ab27c8e-8304-4371-c44b-4682eab98c88",
        "colab": {
          "base_uri": "https://localhost:8080/",
          "height": 355
        }
      },
      "source": [
        "title_len = data.Title_Length\n",
        "shares = data.shares\n",
        "\n",
        "sns.distplot(shares)\n",
        "#plt.scatter(title_len, shares)"
      ],
      "execution_count": 31,
      "outputs": [
        {
          "output_type": "stream",
          "text": [
            "/usr/local/lib/python3.6/dist-packages/seaborn/distributions.py:2551: FutureWarning: `distplot` is a deprecated function and will be removed in a future version. Please adapt your code to use either `displot` (a figure-level function with similar flexibility) or `histplot` (an axes-level function for histograms).\n",
            "  warnings.warn(msg, FutureWarning)\n"
          ],
          "name": "stderr"
        },
        {
          "output_type": "execute_result",
          "data": {
            "text/plain": [
              "<matplotlib.axes._subplots.AxesSubplot at 0x7f4b9754b2b0>"
            ]
          },
          "metadata": {
            "tags": []
          },
          "execution_count": 31
        },
        {
          "output_type": "display_data",
          "data": {
            "image/png": "[encoded data removed]",
            "text/plain": [
              "<Figure size 432x288 with 1 Axes>"
            ]
          },
          "metadata": {
            "tags": [],
            "needs_background": "light"
          }
        }
      ]
    },
    {
      "cell_type": "code",
      "metadata": {
        "id": "qrh474UQM_-U",
        "outputId": "02af7a03-706f-4896-aca2-73fd3b42dd4a",
        "colab": {
          "base_uri": "https://localhost:8080/",
          "height": 269
        }
      },
      "source": [
        ""
      ],
      "execution_count": null,
      "outputs": [
        {
          "output_type": "display_data",
          "data": {
            "image/png": "[encoded data removed]",
            "text/plain": [
              "<Figure size 432x288 with 2 Axes>"
            ]
          },
          "metadata": {
            "tags": [],
            "needs_background": "light"
          }
        }
      ]
    }
  ]
}