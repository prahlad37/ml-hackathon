{
  "nbformat": 4,
  "nbformat_minor": 0,
  "metadata": {
    "colab": {
      "name": "qbuzz-prob-1.ipynb",
      "provenance": [],
      "collapsed_sections": [],
      "authorship_tag": "ABX9TyN8U2Oum78kpGtesQFpUOJk",
      "include_colab_link": true
    },
    "kernelspec": {
      "name": "python3",
      "display_name": "Python 3"
    }
  },
  "cells": [
    {
      "cell_type": "markdown",
      "metadata": {
        "id": "view-in-github",
        "colab_type": "text"
      },
      "source": [
        "<a href=\"https://colab.research.google.com/github/prahlad37/ml-hackathon/blob/main/qbuzz_prob_1.ipynb\" target=\"_parent\"><img src=\"https://colab.research.google.com/assets/colab-badge.svg\" alt=\"Open In Colab\"/></a>"
      ]
    },
    {
      "cell_type": "markdown",
      "metadata": {
        "id": "uMAxVAnx-o_8"
      },
      "source": [
        "**Goal:** Given a wide range of numerical attributes that are collected after processing thousands of articles and news, you have to build a machine learning model that will estimate the number of shares."
      ]
    },
    {
      "cell_type": "code",
      "metadata": {
        "id": "yckMd5hx-818"
      },
      "source": [
        "import pandas as pd\n",
        "\n",
        "\n",
        "#Use to import the file into google Colab drive\n",
        "from google.colab import files\n",
        "\n",
        "#uploaded = files.upload()\n",
        "\n",
        "data = pd.read_excel('training_data.xlsx')"
      ],
      "execution_count": 97,
      "outputs": []
    },
    {
      "cell_type": "markdown",
      "metadata": {
        "id": "EMEtU0GbEJ1e"
      },
      "source": [
        "Data reading complete."
      ]
    },
    {
      "cell_type": "code",
      "metadata": {
        "id": "H_M1wnt1M_9j"
      },
      "source": [
        "import seaborn as sns\n",
        "import matplotlib.pyplot as plt\n",
        "\n",
        "\n",
        "from sklearn import metrics\n",
        "\n",
        "import numpy as np\n",
        "\n",
        "# allow plots to appear directly in the notebook\n",
        "%matplotlib inline"
      ],
      "execution_count": 98,
      "outputs": []
    },
    {
      "cell_type": "code",
      "metadata": {
        "id": "VhTc-VdGFXkY",
        "outputId": "60a36d60-64aa-4917-ffbe-d168e8932b04",
        "colab": {
          "base_uri": "https://localhost:8080/"
        }
      },
      "source": [
        "sample_sz, num_ft = data.shape\n",
        "\n",
        "print('sample size     : ' + str(sample_sz))\n",
        "print('num of features : ' + str(num_ft))\n",
        "\n",
        "data['shares'].describe(percentiles=[.25, .5, .75, 0.9])"
      ],
      "execution_count": 99,
      "outputs": [
        {
          "output_type": "stream",
          "text": [
            "sample size     : 28786\n",
            "num of features : 61\n"
          ],
          "name": "stdout"
        },
        {
          "output_type": "execute_result",
          "data": {
            "text/plain": [
              "count     28786.000000\n",
              "mean       3428.658549\n",
              "std       12693.940388\n",
              "min           1.000000\n",
              "25%         940.250000\n",
              "50%        1400.000000\n",
              "75%        2800.000000\n",
              "90%        6200.000000\n",
              "max      843300.000000\n",
              "Name: shares, dtype: float64"
            ]
          },
          "metadata": {
            "tags": []
          },
          "execution_count": 99
        }
      ]
    },
    {
      "cell_type": "markdown",
      "metadata": {
        "id": "6p7527s3TtWz"
      },
      "source": [
        "Process the data frame"
      ]
    },
    {
      "cell_type": "code",
      "metadata": {
        "id": "yUKIwwxTS_YD",
        "outputId": "1c978a7e-acf2-46c4-a0b8-6b4352cda44e",
        "colab": {
          "base_uri": "https://localhost:8080/"
        }
      },
      "source": [
        "import numpy as np\n",
        "\n",
        "# remove extra spaces from columns\n",
        "data.columns = data.columns.str.strip()\n",
        "# drop weekend\n",
        "data = data.drop(columns=['Weekend'], errors='ignore')\n",
        "# combine all days to single column\n",
        "day_list = {'Monday':1, 'Tuesday':2, 'Wednesday':3, 'Thursday':4, 'Friday':5, 'Saturday':6, 'Sunday':7}\n",
        "sdf_day = data[day_list.keys()]\n",
        "data['which_day'] = sdf_day.mul(np.array((1, 2, 3, 4, 5, 6, 7)),axis=1).sum(axis=1)\n",
        "data = data.drop(columns=day_list.keys(), errors='ignore')\n",
        "\n",
        "data.shape"
      ],
      "execution_count": 100,
      "outputs": [
        {
          "output_type": "execute_result",
          "data": {
            "text/plain": [
              "(28786, 54)"
            ]
          },
          "metadata": {
            "tags": []
          },
          "execution_count": 100
        }
      ]
    },
    {
      "cell_type": "markdown",
      "metadata": {
        "id": "2jDMSAp5rfHm"
      },
      "source": [
        "Category"
      ]
    },
    {
      "cell_type": "code",
      "metadata": {
        "id": "sQ-Bv2lerjiM",
        "outputId": "6a54f191-7823-4646-9a06-739d5fdc8424",
        "colab": {
          "base_uri": "https://localhost:8080/"
        }
      },
      "source": [
        "# combine all days to single column\n",
        "cat_list = {'Lifestyle':1, 'Entertainment':2, 'Business':3, 'SocialMedia':4, 'Technology':5, 'World':6}\n",
        "sdf_cat = data[cat_list.keys()]\n",
        "data['category'] = sdf_cat.mul(cat_list.values(),axis=1).sum(axis=1)\n",
        "data = data.drop(columns=cat_list.keys(), errors='ignore')\n",
        "\n",
        "data.shape"
      ],
      "execution_count": 113,
      "outputs": [
        {
          "output_type": "execute_result",
          "data": {
            "text/plain": [
              "(28786, 49)"
            ]
          },
          "metadata": {
            "tags": []
          },
          "execution_count": 113
        }
      ]
    },
    {
      "cell_type": "code",
      "metadata": {
        "id": "otKH8CsOHbSH",
        "outputId": "70bacd86-cc9b-4d4f-cef2-576840a13a07",
        "colab": {
          "base_uri": "https://localhost:8080/",
          "height": 372
        }
      },
      "source": [
        "# filter top 10% samples\n",
        "data_filtered = data[data['shares'] < 6200 ]\n",
        "filt_sample_sz, x = data_filtered.shape\n",
        "\n",
        "# print number of samples that are dropped.\n",
        "print('filtered '+ str(sample_sz- filt_sample_sz) + ' samples')\n",
        "\n",
        "sns.distplot(data_filtered.shares)"
      ],
      "execution_count": 101,
      "outputs": [
        {
          "output_type": "stream",
          "text": [
            "filtered 2901 samples\n"
          ],
          "name": "stdout"
        },
        {
          "output_type": "stream",
          "text": [
            "/usr/local/lib/python3.6/dist-packages/seaborn/distributions.py:2551: FutureWarning: `distplot` is a deprecated function and will be removed in a future version. Please adapt your code to use either `displot` (a figure-level function with similar flexibility) or `histplot` (an axes-level function for histograms).\n",
            "  warnings.warn(msg, FutureWarning)\n"
          ],
          "name": "stderr"
        },
        {
          "output_type": "execute_result",
          "data": {
            "text/plain": [
              "<matplotlib.axes._subplots.AxesSubplot at 0x7f5d3ce93860>"
            ]
          },
          "metadata": {
            "tags": []
          },
          "execution_count": 101
        },
        {
          "output_type": "display_data",
          "data": {
            "image/png": "[encoded data removed]",
            "text/plain": [
              "<Figure size 432x288 with 1 Axes>"
            ]
          },
          "metadata": {
            "tags": [],
            "needs_background": "light"
          }
        }
      ]
    },
    {
      "cell_type": "code",
      "metadata": {
        "id": "Qms1EnSiM_-I",
        "outputId": "7983054f-953f-4986-a2fd-ac8bca8ca73d",
        "colab": {
          "base_uri": "https://localhost:8080/",
          "height": 354
        }
      },
      "source": [
        "#col_list = data_filtered.sample(n=4, axis='columns').columns.tolist()\n",
        "col_list = ['which_day']\n",
        "col_list.append('shares')\n",
        "df_for_plot = data_filtered[col_list]\n",
        "\n",
        "#df_for_plot.plot.scatter(x=['which_day'],y=['shares']);\n",
        "sns.distplot(df_for_plot.which_day)\n",
        "#print(df_for_plot[df_for_plot['which_day'] == 3])\n",
        "#sns.pairplot(df_for_plot, x_vars=col_list, y_vars=['shares'], size = 2, aspect = 1.5)"
      ],
      "execution_count": 114,
      "outputs": [
        {
          "output_type": "stream",
          "text": [
            "/usr/local/lib/python3.6/dist-packages/seaborn/distributions.py:2551: FutureWarning: `distplot` is a deprecated function and will be removed in a future version. Please adapt your code to use either `displot` (a figure-level function with similar flexibility) or `histplot` (an axes-level function for histograms).\n",
            "  warnings.warn(msg, FutureWarning)\n"
          ],
          "name": "stderr"
        },
        {
          "output_type": "execute_result",
          "data": {
            "text/plain": [
              "<matplotlib.axes._subplots.AxesSubplot at 0x7f5d41dbccc0>"
            ]
          },
          "metadata": {
            "tags": []
          },
          "execution_count": 114
        },
        {
          "output_type": "display_data",
          "data": {
            "image/png": "[encoded data removed]",
            "text/plain": [
              "<Figure size 432x288 with 1 Axes>"
            ]
          },
          "metadata": {
            "tags": [],
            "needs_background": "light"
          }
        }
      ]
    }
  ]
}